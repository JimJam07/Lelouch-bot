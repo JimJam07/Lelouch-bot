{
 "cells": [
  {
   "cell_type": "raw",
   "source": [],
   "metadata": {
    "collapsed": false
   },
   "id": "de16259581f238e7"
  },
  {
   "cell_type": "code",
   "outputs": [
    {
     "data": {
      "text/plain": "'/Users/sharanraj/Documents/Aizen-bot/dataset/games.pgn'"
     },
     "execution_count": 2,
     "metadata": {},
     "output_type": "execute_result"
    }
   ],
   "source": [
    "import dotenv\n",
    "import os\n",
    "\n",
    "\n",
    "dotenv.load_dotenv()\n",
    "GAME_PATH = os.getenv(\"GAME_PATH\")\n",
    "GAME_PATH\n"
   ],
   "metadata": {
    "collapsed": false,
    "ExecuteTime": {
     "end_time": "2025-06-25T21:45:28.998140Z",
     "start_time": "2025-06-25T21:45:28.986072Z"
    }
   },
   "id": "7f79c1743cf06202",
   "execution_count": 2
  },
  {
   "cell_type": "code",
   "execution_count": 3,
   "id": "initial_id",
   "metadata": {
    "collapsed": true,
    "ExecuteTime": {
     "end_time": "2025-06-25T21:46:31.131620Z",
     "start_time": "2025-06-25T21:45:30.984694Z"
    }
   },
   "outputs": [
    {
     "name": "stdout",
     "output_type": "stream",
     "text": [
      "Read 23738....\n"
     ]
    },
    {
     "name": "stderr",
     "output_type": "stream",
     "text": [
      "Processing Games: 100%|██████████| 23738/23738 [00:32<00:00, 726.85game/s]\n"
     ]
    },
    {
     "name": "stdout",
     "output_type": "stream",
     "text": [
      "Time taken: 0h 0m 55s\n"
     ]
    }
   ],
   "source": [
    "from src.preprocess.preprocess import Preprocess\n",
    "\n",
    "pre = Preprocess(GAME_PATH)\n",
    "pos, eval = pre.preprocess()"
   ]
  },
  {
   "cell_type": "code",
   "outputs": [],
   "source": [
    "import torch\n",
    "\n",
    "torch.save({'X': pos, \n",
    "            'y': eval}, f'{os.getenv('DATASET_PATH')}/dataset.pt')"
   ],
   "metadata": {
    "collapsed": false,
    "ExecuteTime": {
     "end_time": "2025-06-25T21:02:37.025857Z",
     "start_time": "2025-06-25T21:02:29.132511Z"
    }
   },
   "id": "779cc79be798d222",
   "execution_count": 5
  }
 ],
 "metadata": {
  "kernelspec": {
   "display_name": "Python 3",
   "language": "python",
   "name": "python3"
  },
  "language_info": {
   "codemirror_mode": {
    "name": "ipython",
    "version": 2
   },
   "file_extension": ".py",
   "mimetype": "text/x-python",
   "name": "python",
   "nbconvert_exporter": "python",
   "pygments_lexer": "ipython2",
   "version": "2.7.6"
  }
 },
 "nbformat": 4,
 "nbformat_minor": 5
}
